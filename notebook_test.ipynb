{
 "cells": [
  {
   "cell_type": "code",
   "execution_count": 2,
   "metadata": {},
   "outputs": [
    {
     "name": "stdout",
     "output_type": "stream",
     "text": [
      "Requirement already satisfied: numpy in /opt/conda/lib/python3.8/site-packages (from -r requirements.txt (line 1)) (1.19.2)\n",
      "Collecting statsmodels\n",
      "  Downloading statsmodels-0.12.0-cp38-cp38-manylinux1_x86_64.whl (9.4 MB)\n",
      "\u001b[K     |████████████████████████████████| 9.4 MB 10.3 MB/s eta 0:00:01\n",
      "\u001b[?25hCollecting pandas>=0.21\n",
      "  Downloading pandas-1.1.3-cp38-cp38-manylinux1_x86_64.whl (9.3 MB)\n",
      "\u001b[K     |████████████████████████████████| 9.3 MB 3.7 MB/s eta 0:00:01\n",
      "\u001b[?25hCollecting scipy>=1.1\n",
      "  Downloading scipy-1.5.3-cp38-cp38-manylinux1_x86_64.whl (25.8 MB)\n",
      "\u001b[K     |████████████████████████████████| 25.8 MB 154 kB/s eta 0:00:01    |███████▌                        | 6.1 MB 5.1 MB/s eta 0:00:04     |██████████████████▎             | 14.7 MB 4.3 MB/s eta 0:00:03     |██████████████████████████▏     | 21.1 MB 2.7 MB/s eta 0:00:02\n",
      "\u001b[?25hCollecting patsy>=0.5\n",
      "  Downloading patsy-0.5.1-py2.py3-none-any.whl (231 kB)\n",
      "\u001b[K     |████████████████████████████████| 231 kB 5.0 MB/s eta 0:00:01\n",
      "\u001b[?25hCollecting pytz>=2017.2\n",
      "  Downloading pytz-2020.1-py2.py3-none-any.whl (510 kB)\n",
      "\u001b[K     |████████████████████████████████| 510 kB 4.4 MB/s eta 0:00:01\n",
      "\u001b[?25hRequirement already satisfied: python-dateutil>=2.7.3 in /opt/conda/lib/python3.8/site-packages (from pandas>=0.21->statsmodels->-r requirements.txt (line 2)) (2.8.1)\n",
      "Requirement already satisfied: six in /opt/conda/lib/python3.8/site-packages (from patsy>=0.5->statsmodels->-r requirements.txt (line 2)) (1.15.0)\n",
      "Installing collected packages: pytz, pandas, scipy, patsy, statsmodels\n",
      "Successfully installed pandas-1.1.3 patsy-0.5.1 pytz-2020.1 scipy-1.5.3 statsmodels-0.12.0\n",
      "Note: you may need to restart the kernel to use updated packages.\n"
     ]
    }
   ],
   "source": [
    "pip install -r requirements.txt"
   ]
  },
  {
   "cell_type": "code",
   "execution_count": 3,
   "metadata": {},
   "outputs": [],
   "source": [
    "import statsmodels.api as sm"
   ]
  },
  {
   "cell_type": "code",
   "execution_count": 4,
   "metadata": {},
   "outputs": [],
   "source": [
    "rand_data = sm.datasets.randhie.load(as_pandas=False)\n",
    "rand_exog = rand_data.exog.view(float).reshape(len(rand_data.exog), -1)\n",
    "rand_exog = sm.add_constant(rand_exog, prepend=False)"
   ]
  },
  {
   "cell_type": "code",
   "execution_count": 6,
   "metadata": {},
   "outputs": [
    {
     "name": "stdout",
     "output_type": "stream",
     "text": [
      "[[4.61512  1.       6.907755 ... 0.       0.       1.      ]\n",
      " [4.61512  1.       6.907755 ... 0.       0.       1.      ]\n",
      " [4.61512  1.       6.907755 ... 0.       0.       1.      ]\n",
      " ...\n",
      " [3.258096 0.       6.874819 ... 0.       0.       1.      ]\n",
      " [3.258096 0.       5.156178 ... 0.       0.       1.      ]\n",
      " [3.258096 0.       6.620073 ... 0.       0.       1.      ]]\n"
     ]
    }
   ],
   "source": [
    "print(rand_exog)"
   ]
  },
  {
   "cell_type": "code",
   "execution_count": null,
   "metadata": {},
   "outputs": [],
   "source": []
  }
 ],
 "metadata": {
  "kernelspec": {
   "display_name": "Python 3",
   "language": "python",
   "name": "python3"
  },
  "language_info": {
   "codemirror_mode": {
    "name": "ipython",
    "version": 3
   },
   "file_extension": ".py",
   "mimetype": "text/x-python",
   "name": "python",
   "nbconvert_exporter": "python",
   "pygments_lexer": "ipython3",
   "version": "3.8.4"
  }
 },
 "nbformat": 4,
 "nbformat_minor": 4
}
